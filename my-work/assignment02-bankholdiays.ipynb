{
 "cells": [
  {
   "cell_type": "code",
   "execution_count": null,
   "id": "1bc6a594",
   "metadata": {},
   "outputs": [],
   "source": [
    "# Import libraries\n",
    "import urllib.request # required for importing files from the web\n",
    "import json # necessary to work with json files"
   ]
  },
  {
   "cell_type": "code",
   "execution_count": 39,
   "id": "9d3600b6",
   "metadata": {},
   "outputs": [
    {
     "name": "stdout",
     "output_type": "stream",
     "text": [
      "{'england-and-wales': {'division': 'england-and-wales', 'events': [{'title': 'New Year’s Day', 'date': '2024-01-01', 'notes': '', 'bunting': True}, {'title': 'Good Friday', 'date': '2024-03-29', 'notes': '', 'bunting': False}, {'title': 'Easter Monday', 'date': '2024-04-01', 'notes': '', 'bunting': True}, {'title': 'Early May bank holiday', 'date': '2024-05-06', 'notes': '', 'bunting': True}, {'title': 'Spring bank holiday', 'date': '2024-05-27', 'notes': '', 'bunting': True}, {'title': 'Summer bank holiday', 'date': '2024-08-26', 'notes': '', 'bunting': True}, {'title': 'Christmas Day', 'date': '2024-12-25', 'notes': '', 'bunting': True}, {'title': 'Boxing Day', 'date': '2024-12-26', 'notes': '', 'bunting': True}, {'title': 'New Year’s Day', 'date': '2025-01-01', 'notes': '', 'bunting': True}, {'title': 'Good Friday', 'date': '2025-04-18', 'notes': '', 'bunting': False}, {'title': 'Easter Monday', 'date': '2025-04-21', 'notes': '', 'bunting': True}, {'title': 'Early May bank holiday', 'date': '2025-05-05', 'notes': '', 'bunting': True}, {'title': 'Spring bank holiday', 'date': '2025-05-26', 'notes': '', 'bunting': True}, {'title': 'Summer bank holiday', 'date': '2025-08-25', 'notes': '', 'bunting': True}, {'title': 'Christmas Day', 'date': '2025-12-25', 'notes': '', 'bunting': True}, {'title': 'Boxing Day', 'date': '2025-12-26', 'notes': '', 'bunting': True}, {'title': 'New Year’s Day', 'date': '2026-01-01', 'notes': '', 'bunting': True}, {'title': 'Good Friday', 'date': '2026-04-03', 'notes': '', 'bunting': False}, {'title': 'Easter Monday', 'date': '2026-04-06', 'notes': '', 'bunting': True}, {'title': 'Early May bank holiday', 'date': '2026-05-04', 'notes': '', 'bunting': True}, {'title': 'Spring bank holiday', 'date': '2026-05-25', 'notes': '', 'bunting': True}, {'title': 'Summer bank holiday', 'date': '2026-08-31', 'notes': '', 'bunting': True}, {'title': 'Christmas Day', 'date': '2026-12-25', 'notes': '', 'bunting': True}, {'title': 'Boxing Day', 'date': '2026-12-28', 'notes': 'Substitute day', 'bunting': True}, {'title': 'New Year’s Day', 'date': '2027-01-01', 'notes': '', 'bunting': True}, {'title': 'Good Friday', 'date': '2027-03-26', 'notes': '', 'bunting': False}, {'title': 'Easter Monday', 'date': '2027-03-29', 'notes': '', 'bunting': True}, {'title': 'Early May bank holiday', 'date': '2027-05-03', 'notes': '', 'bunting': True}, {'title': 'Spring bank holiday', 'date': '2027-05-31', 'notes': '', 'bunting': True}, {'title': 'Summer bank holiday', 'date': '2027-08-30', 'notes': '', 'bunting': True}, {'title': 'Christmas Day', 'date': '2027-12-27', 'notes': 'Substitute day', 'bunting': True}, {'title': 'Boxing Day', 'date': '2027-12-28', 'notes': 'Substitute day', 'bunting': True}]}, 'scotland': {'division': 'scotland', 'events': [{'title': 'New Year’s Day', 'date': '2024-01-01', 'notes': '', 'bunting': True}, {'title': '2nd January', 'date': '2024-01-02', 'notes': '', 'bunting': True}, {'title': 'Good Friday', 'date': '2024-03-29', 'notes': '', 'bunting': False}, {'title': 'Early May bank holiday', 'date': '2024-05-06', 'notes': '', 'bunting': True}, {'title': 'Spring bank holiday', 'date': '2024-05-27', 'notes': '', 'bunting': True}, {'title': 'Summer bank holiday', 'date': '2024-08-05', 'notes': '', 'bunting': True}, {'title': 'St Andrew’s Day', 'date': '2024-12-02', 'notes': 'Substitute day', 'bunting': True}, {'title': 'Christmas Day', 'date': '2024-12-25', 'notes': '', 'bunting': True}, {'title': 'Boxing Day', 'date': '2024-12-26', 'notes': '', 'bunting': True}, {'title': 'New Year’s Day', 'date': '2025-01-01', 'notes': '', 'bunting': True}, {'title': '2nd January', 'date': '2025-01-02', 'notes': '', 'bunting': True}, {'title': 'Good Friday', 'date': '2025-04-18', 'notes': '', 'bunting': False}, {'title': 'Early May bank holiday', 'date': '2025-05-05', 'notes': '', 'bunting': True}, {'title': 'Spring bank holiday', 'date': '2025-05-26', 'notes': '', 'bunting': True}, {'title': 'Summer bank holiday', 'date': '2025-08-04', 'notes': '', 'bunting': True}, {'title': 'St Andrew’s Day', 'date': '2025-12-01', 'notes': 'Substitute day', 'bunting': True}, {'title': 'Christmas Day', 'date': '2025-12-25', 'notes': '', 'bunting': True}, {'title': 'Boxing Day', 'date': '2025-12-26', 'notes': '', 'bunting': True}, {'title': 'New Year’s Day', 'date': '2026-01-01', 'notes': '', 'bunting': True}, {'title': '2nd January', 'date': '2026-01-02', 'notes': '', 'bunting': True}, {'title': 'Good Friday', 'date': '2026-04-03', 'notes': '', 'bunting': False}, {'title': 'Early May bank holiday', 'date': '2026-05-04', 'notes': '', 'bunting': True}, {'title': 'Spring bank holiday', 'date': '2026-05-25', 'notes': '', 'bunting': True}, {'title': 'Summer bank holiday', 'date': '2026-08-03', 'notes': '', 'bunting': True}, {'title': 'St Andrew’s Day', 'date': '2026-11-30', 'notes': '', 'bunting': True}, {'title': 'Christmas Day', 'date': '2026-12-25', 'notes': '', 'bunting': True}, {'title': 'Boxing Day', 'date': '2026-12-28', 'notes': 'Substitute day', 'bunting': True}, {'title': 'New Year’s Day', 'date': '2027-01-01', 'notes': '', 'bunting': True}, {'title': '2nd January', 'date': '2027-01-04', 'notes': 'Substitute day', 'bunting': True}, {'title': 'Good Friday', 'date': '2027-03-26', 'notes': '', 'bunting': False}, {'title': 'Early May bank holiday', 'date': '2027-05-03', 'notes': '', 'bunting': True}, {'title': 'Spring bank holiday', 'date': '2027-05-31', 'notes': '', 'bunting': True}, {'title': 'Summer bank holiday', 'date': '2027-08-02', 'notes': '', 'bunting': True}, {'title': 'St Andrew’s Day', 'date': '2027-11-30', 'notes': '', 'bunting': True}, {'title': 'Christmas Day', 'date': '2027-12-27', 'notes': 'Substitute day', 'bunting': True}, {'title': 'Boxing Day', 'date': '2027-12-28', 'notes': 'Substitute day', 'bunting': True}]}, 'northern-ireland': {'division': 'northern-ireland', 'events': [{'title': 'New Year’s Day', 'date': '2024-01-01', 'notes': '', 'bunting': True}, {'title': 'St Patrick’s Day', 'date': '2024-03-18', 'notes': 'Substitute day', 'bunting': True}, {'title': 'Good Friday', 'date': '2024-03-29', 'notes': '', 'bunting': False}, {'title': 'Easter Monday', 'date': '2024-04-01', 'notes': '', 'bunting': True}, {'title': 'Early May bank holiday', 'date': '2024-05-06', 'notes': '', 'bunting': True}, {'title': 'Spring bank holiday', 'date': '2024-05-27', 'notes': '', 'bunting': True}, {'title': 'Battle of the Boyne (Orangemen’s Day)', 'date': '2024-07-12', 'notes': '', 'bunting': False}, {'title': 'Summer bank holiday', 'date': '2024-08-26', 'notes': '', 'bunting': True}, {'title': 'Christmas Day', 'date': '2024-12-25', 'notes': '', 'bunting': True}, {'title': 'Boxing Day', 'date': '2024-12-26', 'notes': '', 'bunting': True}, {'title': 'New Year’s Day', 'date': '2025-01-01', 'notes': '', 'bunting': True}, {'title': 'St Patrick’s Day', 'date': '2025-03-17', 'notes': '', 'bunting': True}, {'title': 'Good Friday', 'date': '2025-04-18', 'notes': '', 'bunting': False}, {'title': 'Easter Monday', 'date': '2025-04-21', 'notes': '', 'bunting': True}, {'title': 'Early May bank holiday', 'date': '2025-05-05', 'notes': '', 'bunting': True}, {'title': 'Spring bank holiday', 'date': '2025-05-26', 'notes': '', 'bunting': True}, {'title': 'Battle of the Boyne (Orangemen’s Day)', 'date': '2025-07-14', 'notes': 'Substitute day', 'bunting': False}, {'title': 'Summer bank holiday', 'date': '2025-08-25', 'notes': '', 'bunting': True}, {'title': 'Christmas Day', 'date': '2025-12-25', 'notes': '', 'bunting': True}, {'title': 'Boxing Day', 'date': '2025-12-26', 'notes': '', 'bunting': True}, {'title': 'New Year’s Day', 'date': '2026-01-01', 'notes': '', 'bunting': True}, {'title': 'St Patrick’s Day', 'date': '2026-03-17', 'notes': '', 'bunting': True}, {'title': 'Good Friday', 'date': '2026-04-03', 'notes': '', 'bunting': False}, {'title': 'Easter Monday', 'date': '2026-04-06', 'notes': '', 'bunting': True}, {'title': 'Early May bank holiday', 'date': '2026-05-04', 'notes': '', 'bunting': True}, {'title': 'Spring bank holiday', 'date': '2026-05-25', 'notes': '', 'bunting': True}, {'title': 'Battle of the Boyne (Orangemen’s Day)', 'date': '2026-07-13', 'notes': 'Substitute day', 'bunting': False}, {'title': 'Summer bank holiday', 'date': '2026-08-31', 'notes': '', 'bunting': True}, {'title': 'Christmas Day', 'date': '2026-12-25', 'notes': '', 'bunting': True}, {'title': 'Boxing Day', 'date': '2026-12-28', 'notes': 'Substitute day', 'bunting': True}, {'title': 'New Year’s Day', 'date': '2027-01-01', 'notes': '', 'bunting': True}, {'title': 'St Patrick’s Day', 'date': '2027-03-17', 'notes': '', 'bunting': True}, {'title': 'Good Friday', 'date': '2027-03-26', 'notes': '', 'bunting': False}, {'title': 'Easter Monday', 'date': '2027-03-29', 'notes': '', 'bunting': True}, {'title': 'Early May bank holiday', 'date': '2027-05-03', 'notes': '', 'bunting': True}, {'title': 'Spring bank holiday', 'date': '2027-05-31', 'notes': '', 'bunting': True}, {'title': 'Battle of the Boyne (Orangemen’s Day)', 'date': '2027-07-12', 'notes': '', 'bunting': False}, {'title': 'Summer bank holiday', 'date': '2027-08-30', 'notes': '', 'bunting': True}, {'title': 'Christmas Day', 'date': '2027-12-27', 'notes': 'Substitute day', 'bunting': True}, {'title': 'Boxing Day', 'date': '2027-12-28', 'notes': 'Substitute day', 'bunting': True}]}}\n"
     ]
    }
   ],
   "source": [
    "# Upload a json file from an URL https://stackoverflow.com/questions/12965203/how-to-get-json-from-webpage-into-python-script\n",
    "\n",
    "# Define the URL that you will use to get the info about bank holidays in UK\n",
    "uk_bank_holidays_url = \"https://www.gov.uk/bank-holidays.json\"\n",
    "\n",
    "# Get the json file from the web and convert it to python dictionary\n",
    "with urllib.request.urlopen(uk_bank_holidays_url) as url: # Get the json file\n",
    "    data = json.loads(url.read().decode()) # Convert the json file to a python list\n",
    "    print(data) # print the resulting file"
   ]
  },
  {
   "cell_type": "code",
   "execution_count": null,
   "id": "df3f375b",
   "metadata": {},
   "outputs": [],
   "source": [
    "# Split strings in python: https://www.w3schools.com/python/ref_string_split.asp\n",
    "\n",
    "\n",
    "def GetHolidaysInUK(data, region, include_holiday=False, include_date=False):\n",
    "\n",
    "    \"\"\"\n",
    "    The function extracts the holiday information for the specific region in UK in 2025.\n",
    "\n",
    "    Arguments:\n",
    "        data (dict): the dictionary with the holiday information of three regions in UK (\n",
    "        Northern Ireland, England and Walse and Scotland.\n",
    "        \n",
    "        region (string): the name of the region to extract holiday information.\n",
    "        \n",
    "        include_holidays (boolean): decides if to return the name of the holiday.\n",
    "        \n",
    "        include_date (boolean): decides if to return the date of the holiday.\n",
    "\n",
    "    Returns:\n",
    "        Returns the list of a specific holiday information depending on include_holidays and include_date \n",
    "        parameters. \n",
    "        )\n",
    "    \"\"\"\n",
    "\n",
    "\n",
    "    # Retrieve all holiday events for the specified region\n",
    "    events = data[region][\"events\"]\n",
    "    # Create an empty variable to store holiday information\n",
    "    region_holidays = []\n",
    "\n",
    "    # Go through each holiday and extract specified info (the name of the holiday and date)\n",
    "    for event in events:\n",
    "        title = event[\"title\"] # the name of the holiday\n",
    "        date = event[\"date\"] # Date (YYYY-MM-DD)\n",
    "\n",
    "        date_list = date.split(\"-\") # Split the date into year, month and day\n",
    "        year = date_list[0] # Get the date of the holiday\n",
    "\n",
    "        month_day = f\"{date_list[1]}.{date_list[2]}\" # Get the month and the day info\n",
    "\n",
    "        # Only include holidays occurring in 2025\n",
    "        if year == \"2025\":\n",
    "            # Determine which information to include based on user preferences\n",
    "            if include_holiday and include_date:\n",
    "                region_holidays.append([title, month_day])\n",
    "            elif include_holiday:\n",
    "                region_holidays.append(title)\n",
    "            elif include_date:\n",
    "                region_holidays.append(month_day)\n",
    "\n",
    "    return region_holidays"
   ]
  },
  {
   "cell_type": "code",
   "execution_count": 53,
   "id": "4431c3bd",
   "metadata": {},
   "outputs": [
    {
     "name": "stdout",
     "output_type": "stream",
     "text": [
      "These are the holidays that happen in Northern Ireland in 2025:\n",
      " - New Year’s Day - 01.01\n",
      " - St Patrick’s Day - 03.17\n",
      " - Good Friday - 04.18\n",
      " - Easter Monday - 04.21\n",
      " - Early May bank holiday - 05.05\n",
      " - Spring bank holiday - 05.26\n",
      " - Battle of the Boyne (Orangemen’s Day) - 07.14\n",
      " - Summer bank holiday - 08.25\n",
      " - Christmas Day - 12.25\n",
      " - Boxing Day - 12.26\n"
     ]
    }
   ],
   "source": [
    "# Get the holidays in Northern Ireland\n",
    "holidays_in_norethern_Ireland = GetHolidaysInUK(\n",
    "    data, region = \"northern-ireland\", include_holiday = True, include_date = True)\n",
    "\n",
    "# Print out the holidays in Northern Ireland\n",
    "print(\"These are the holidays that happen in Northern Ireland in 2025:\")\n",
    "for holiday in holidays_in_norethern_Ireland:\n",
    "    print(f\" - {holiday[0]} - {holiday[1]}\") # Print the name of the holiday followed by the date"
   ]
  },
  {
   "cell_type": "code",
   "execution_count": 51,
   "id": "f98e3888",
   "metadata": {},
   "outputs": [
    {
     "name": "stdout",
     "output_type": "stream",
     "text": [
      "These are the holidays unique to Northern Ireland compared to other UK members:\n",
      " - St Patrick’s Day\n",
      " - Battle of the Boyne (Orangemen’s Day)\n"
     ]
    }
   ],
   "source": [
    "scotland_holidays = GetHolidaysInUK(data, region = \"scotland\", include_holiday = True, include_date = False)\n",
    "england_and_wales_holidays = GetHolidaysInUK(data, region = \"england-and-wales\", include_holiday = True, include_date = False)\n",
    "northern_ireland_holidays = GetHolidaysInUK(data, region = \"northern-ireland\", include_holiday = True, include_date = False)\n",
    "\n",
    "\n",
    "# The link on how to use sets https://stackoverflow.com/questions/15768757/how-to-construct-a-set-out-of-list-items-in-python\n",
    "# The link on hot to use difference https://www.geeksforgeeks.org/python/python-set-difference/\n",
    "only_in_Northern_Ireland = set(northern_ireland_holidays).difference(\n",
    "    set(england_and_wales_holidays), set(scotland_holidays))\n",
    "print(\"These are the holidays unique to Northern Ireland compared to other UK members:\")\n",
    "for holiday in only_in_Northern_Ireland:\n",
    "    print(f\" - {holiday}\")"
   ]
  },
  {
   "cell_type": "code",
   "execution_count": null,
   "id": "21e19dab",
   "metadata": {},
   "outputs": [],
   "source": []
  }
 ],
 "metadata": {
  "kernelspec": {
   "display_name": "base",
   "language": "python",
   "name": "python3"
  },
  "language_info": {
   "codemirror_mode": {
    "name": "ipython",
    "version": 3
   },
   "file_extension": ".py",
   "mimetype": "text/x-python",
   "name": "python",
   "nbconvert_exporter": "python",
   "pygments_lexer": "ipython3",
   "version": "3.13.5"
  }
 },
 "nbformat": 4,
 "nbformat_minor": 5
}
