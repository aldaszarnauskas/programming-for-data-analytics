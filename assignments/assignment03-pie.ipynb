{
 "cells": [
  {
   "cell_type": "code",
   "execution_count": 18,
   "id": "a5669f09",
   "metadata": {},
   "outputs": [],
   "source": [
    "import pandas as pd # Working with dataframes\n",
    "from urllib import request # Downloading data from an URL\n",
    "from matplotlib import pyplot as plt # Plotting figures"
   ]
  },
  {
   "cell_type": "markdown",
   "id": "5517f961",
   "metadata": {},
   "source": [
    "The `request.urlretrieve` function ([see reference](https://realpython.com/python-download-file-from-url/)) downloads data from a given URL"
   ]
  },
  {
   "cell_type": "code",
   "execution_count": null,
   "id": "157f950f",
   "metadata": {},
   "outputs": [
    {
     "data": {
      "text/plain": [
       "('../data/peoples_email_domains.csv',\n",
       " <http.client.HTTPMessage at 0x7b890788ac90>)"
      ]
     },
     "execution_count": 12,
     "metadata": {},
     "output_type": "execute_result"
    }
   ],
   "source": [
    "# Define the URL to use it later with urlretrieve\n",
    "URL = \"https://drive.google.com/uc?id=1AWPf-pJodJKeHsARQK_RHiNsE8fjPCVK&export=download\"\n",
    "# Define the .csv filename while including the path to the data folder.\n",
    "filename = \"../data/peoples_email_domains.csv\"\n",
    "# Retrieve the data and save it as .csv file to the data folder\n",
    "request.urlretrieve(URL, filename)"
   ]
  },
  {
   "cell_type": "code",
   "execution_count": null,
   "id": "1c3cc5ed",
   "metadata": {},
   "outputs": [
    {
     "data": {
      "text/html": [
       "<div>\n",
       "<style scoped>\n",
       "    .dataframe tbody tr th:only-of-type {\n",
       "        vertical-align: middle;\n",
       "    }\n",
       "\n",
       "    .dataframe tbody tr th {\n",
       "        vertical-align: top;\n",
       "    }\n",
       "\n",
       "    .dataframe thead th {\n",
       "        text-align: right;\n",
       "    }\n",
       "</style>\n",
       "<table border=\"1\" class=\"dataframe\">\n",
       "  <thead>\n",
       "    <tr style=\"text-align: right;\">\n",
       "      <th></th>\n",
       "      <th>User Id</th>\n",
       "      <th>First Name</th>\n",
       "      <th>Last Name</th>\n",
       "      <th>Sex</th>\n",
       "      <th>Email</th>\n",
       "      <th>Phone</th>\n",
       "      <th>Date of birth</th>\n",
       "      <th>Job Title</th>\n",
       "    </tr>\n",
       "    <tr>\n",
       "      <th>Index</th>\n",
       "      <th></th>\n",
       "      <th></th>\n",
       "      <th></th>\n",
       "      <th></th>\n",
       "      <th></th>\n",
       "      <th></th>\n",
       "      <th></th>\n",
       "      <th></th>\n",
       "    </tr>\n",
       "  </thead>\n",
       "  <tbody>\n",
       "    <tr>\n",
       "      <th>1</th>\n",
       "      <td>8717bbf45cCDbEe</td>\n",
       "      <td>Shelia</td>\n",
       "      <td>Mahoney</td>\n",
       "      <td>Male</td>\n",
       "      <td>pwarner@example.org</td>\n",
       "      <td>857.139.8239</td>\n",
       "      <td>2014-01-27</td>\n",
       "      <td>Probation officer</td>\n",
       "    </tr>\n",
       "    <tr>\n",
       "      <th>2</th>\n",
       "      <td>3d5AD30A4cD38ed</td>\n",
       "      <td>Jo</td>\n",
       "      <td>Rivers</td>\n",
       "      <td>Female</td>\n",
       "      <td>fergusonkatherine@example.net</td>\n",
       "      <td>+1-950-759-8687</td>\n",
       "      <td>1931-07-26</td>\n",
       "      <td>Dancer</td>\n",
       "    </tr>\n",
       "    <tr>\n",
       "      <th>3</th>\n",
       "      <td>810Ce0F276Badec</td>\n",
       "      <td>Sheryl</td>\n",
       "      <td>Lowery</td>\n",
       "      <td>Female</td>\n",
       "      <td>fhoward@example.org</td>\n",
       "      <td>(599)782-0605</td>\n",
       "      <td>2013-11-25</td>\n",
       "      <td>Copy</td>\n",
       "    </tr>\n",
       "    <tr>\n",
       "      <th>4</th>\n",
       "      <td>BF2a889C00f0cE1</td>\n",
       "      <td>Whitney</td>\n",
       "      <td>Hooper</td>\n",
       "      <td>Male</td>\n",
       "      <td>zjohnston@example.com</td>\n",
       "      <td>+1-939-130-6258</td>\n",
       "      <td>2012-11-17</td>\n",
       "      <td>Counselling psychologist</td>\n",
       "    </tr>\n",
       "    <tr>\n",
       "      <th>5</th>\n",
       "      <td>9afFEafAe1CBBB9</td>\n",
       "      <td>Lindsey</td>\n",
       "      <td>Rice</td>\n",
       "      <td>Female</td>\n",
       "      <td>elin@example.net</td>\n",
       "      <td>(390)417-1635x3010</td>\n",
       "      <td>1923-04-15</td>\n",
       "      <td>Biomedical engineer</td>\n",
       "    </tr>\n",
       "  </tbody>\n",
       "</table>\n",
       "</div>"
      ],
      "text/plain": [
       "               User Id First Name Last Name     Sex  \\\n",
       "Index                                                 \n",
       "1      8717bbf45cCDbEe     Shelia   Mahoney    Male   \n",
       "2      3d5AD30A4cD38ed         Jo    Rivers  Female   \n",
       "3      810Ce0F276Badec     Sheryl    Lowery  Female   \n",
       "4      BF2a889C00f0cE1    Whitney    Hooper    Male   \n",
       "5      9afFEafAe1CBBB9    Lindsey      Rice  Female   \n",
       "\n",
       "                               Email               Phone Date of birth  \\\n",
       "Index                                                                    \n",
       "1                pwarner@example.org        857.139.8239    2014-01-27   \n",
       "2      fergusonkatherine@example.net     +1-950-759-8687    1931-07-26   \n",
       "3                fhoward@example.org       (599)782-0605    2013-11-25   \n",
       "4              zjohnston@example.com     +1-939-130-6258    2012-11-17   \n",
       "5                   elin@example.net  (390)417-1635x3010    1923-04-15   \n",
       "\n",
       "                      Job Title  \n",
       "Index                            \n",
       "1             Probation officer  \n",
       "2                        Dancer  \n",
       "3                          Copy  \n",
       "4      Counselling psychologist  \n",
       "5           Biomedical engineer  "
      ]
     },
     "execution_count": 16,
     "metadata": {},
     "output_type": "execute_result"
    }
   ],
   "source": [
    "# Load in the csv file from the data folder\n",
    "df = pd.read_csv(\"../data/peoples_email_domains.csv\", index_col=0)\n",
    "df.head() # Show the first five rows"
   ]
  },
  {
   "cell_type": "markdown",
   "id": "12ca3fe3",
   "metadata": {},
   "source": [
    "The `pandas.Series.str.split` function ([see official documentation](https://pandas.pydata.org/docs/reference/api/pandas.Series.str.split.html)) splits the pandas dataframe column based on the parameters.\n",
    "\n",
    "The `pandas.DataFrame.value_counts` function ([see official documentation](https://pandas.pydata.org/docs/reference/api/pandas.DataFrame.value_counts.html)) Calculates the frequency of values in a dataframe."
   ]
  },
  {
   "cell_type": "code",
   "execution_count": null,
   "id": "5f77f38c",
   "metadata": {},
   "outputs": [],
   "source": [
    "# Use str.split function to split the Email column into two columns.\n",
    "# Add the second column to the df so you could calculate the frequency of email domains\n",
    "df[\"Email Domains\"] = df[\"Email\"].str.split(\"@\", expand=True)[1]\n",
    "\n",
    "\n",
    "# Use value_counts to calculate the frequency of email domains \n",
    "domain_count = df[\"Email Domains\"].value_counts()"
   ]
  },
  {
   "cell_type": "code",
   "execution_count": null,
   "id": "e758ad1e",
   "metadata": {},
   "outputs": [],
   "source": [
    "# Store the labels (email domains) for the pie chart \n",
    "labels = domain_count.index\n",
    "# Store the frequency of email domains for the pie chart\n",
    "counts = domain_count.values"
   ]
  },
  {
   "cell_type": "markdown",
   "id": "e7faf473",
   "metadata": {},
   "source": [
    "This is an example used to create the function that modifies the text of the autopct parameter of the pyplot.axes.pie function ([see official documentation](https://matplotlib.org/stable/gallery/pie_and_polar_charts/pie_and_donut_labels.html#sphx-glr-gallery-pie-and-polar-charts-pie-and-donut-labels-py))."
   ]
  },
  {
   "cell_type": "code",
   "execution_count": 95,
   "id": "4ba6782a",
   "metadata": {},
   "outputs": [],
   "source": [
    "def func(pct, allvals):\n",
    "    \"\"\"\n",
    "    This is function customises the text for the autopct parameter of the pyplot.pie function.\n",
    "\n",
    "    Args:\n",
    "        pct(float): the percentage of the value.\n",
    "        allvals(array): the input values to the pyplot.pie function\n",
    "\n",
    "    Returns: customised text with two values, the value and the percentage.\n",
    "    \"\"\"\n",
    "    # Calculates the value given the percentage of the total counts\n",
    "    absolute = int(np.round(pct/100.*np.sum(allvals)))\n",
    "    # Returns the string with the value and the percentage\n",
    "    return f\"{absolute:d}\\n({pct:.1f}%)\""
   ]
  },
  {
   "cell_type": "markdown",
   "id": "25c068c2",
   "metadata": {},
   "source": [
    "Here is explained the basics how to plot pie charts with pyplot package ([see official documentation](https://matplotlib.org/stable/gallery/pie_and_polar_charts/pie_features.html)).\n",
    "\n",
    "Here is the list of colors used to define the colors of the wedges in the pyplot.pie function ([see reference](https://matplotlib.org/3.1.1/gallery/color/named_colors.html)).\n",
    "\n",
    "Here is an example on how to customise text in pyplot ([see reference](https://brandonrohrer.com/matplotlib_text.html)). This example was used to customise the text of the textprops parameter of the pyplot.pie function. To place the white text in the black box for better visualisation.\n",
    "\n",
    "\n",
    "The `matplotlib.axes.Axes.legend` function ([see reference](https://matplotlib.org/stable/api/_as_gen/matplotlib.axes.Axes.legend.html )) allows to add a legend to a plot. It also enables to change its appearance including the position on the plot."
   ]
  },
  {
   "cell_type": "code",
   "execution_count": null,
   "id": "acfd6b12",
   "metadata": {},
   "outputs": [
    {
     "data": {
      "text/plain": [
       "Text(0.5, 1.0, 'Frequency of Email Domains')"
      ]
     },
     "execution_count": 91,
     "metadata": {},
     "output_type": "execute_result"
    },
    {
     "data": {
      "image/png": "[encoded data removed]",
      "text/plain": [
       "<Figure size 640x480 with 1 Axes>"
      ]
     },
     "metadata": {},
     "output_type": "display_data"
    }
   ],
   "source": [
    "# Create the axes for plotting \n",
    "fig, ax = plt.subplots()\n",
    "# Plot the pie plot\n",
    "ax.pie(\n",
    "    counts, \n",
    "    labels=labels, \n",
    "    autopct=lambda pct: func(pct, counts), # Customise the autopct text\n",
    "    colors=['tab:blue', 'tab:purple', 'tab:green'], # Select the colors for wedges\n",
    "    pctdistance=0.5, # Select the cordinates on the plot for the pct text \n",
    "    labeldistance=None, # Remove the labels from the plot\n",
    "    wedgeprops={'linewidth': 0.5, \"edgecolor\":\"black\"}, # Customise wedges appearance\n",
    "    # Customise the text of the textprops while using the function previously defined function\n",
    "    textprops=dict( \n",
    "        color=\"w\",  \n",
    "        bbox=dict(  \n",
    "            boxstyle='round,pad=0.3',  \n",
    "            facecolor='black',         \n",
    "            edgecolor='none',          \n",
    "            alpha=0.8                  \n",
    "        ))\n",
    "    )\n",
    "\n",
    "# Set the cordinates of the legend so that it would be outside the pie chart\n",
    "ax.legend(\n",
    "    title=\"Email Domains\",\n",
    "    loc=\"center left\",\n",
    "    bbox_to_anchor=(0.9, 0.7)\n",
    "    )\n",
    "# Set the title of the plot\n",
    "ax.set_title(\"Frequency of Email Domains\")"
   ]
  }
 ],
 "metadata": {
  "kernelspec": {
   "display_name": "Python (venv)",
   "language": "python",
   "name": ".venv"
  },
  "language_info": {
   "codemirror_mode": {
    "name": "ipython",
    "version": 3
   },
   "file_extension": ".py",
   "mimetype": "text/x-python",
   "name": "python",
   "nbconvert_exporter": "python",
   "pygments_lexer": "ipython3",
   "version": "3.12.3"
  }
 },
 "nbformat": 4,
 "nbformat_minor": 5
}
